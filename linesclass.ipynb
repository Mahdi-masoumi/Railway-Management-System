{
 "cells": [
  {
   "cell_type": "code",
   "execution_count": null,
   "metadata": {},
   "outputs": [],
   "source": [
    "class Line:\n",
    "    def __init__(self, name, start, stop, stations):\n",
    "        self.name = name\n",
    "        self.start = start\n",
    "        self.stop = stop\n",
    "        self.stations = stations\n",
    "\n",
    "class Line_Manager:\n",
    "    def __init__(self)\n",
    "        self.lines = {}\n",
    "\n",
    "    def add_line (self, name, start, stop, stations)\n",
    "        if name in self.lines:\n",
    "            print(\"Line Already Exists\") \n",
    "        else:\n",
    "            self.lines[name] = Line(name, start, stop, stations)\n",
    "            print(f\"Line {name} added successfully.\")\n",
    "\n",
    "    def update_line (self, name, new_start=None, new_stop=None, new_stations=None):\n",
    "        if name not in self.lines:\n",
    "            print(\"Line Not Found\") \n",
    "            return\n",
    "        line = self.lines[name]\n",
    "        if new_start:\n",
    "            line.start = new_start\n",
    "        if new_stop:\n",
    "            line.stop = new_stop\n",
    "        if new_stations:\n",
    "            line.stations = new_stations\n",
    "        print(f\"Line {name} updated successfully.\")\n",
    "\n",
    "    def delete_line (self, name):\n",
    "        if name in self.lines\n",
    "            del self.lines[name]\n",
    "            print(f\"Line {name} deleted successfully.\")\n",
    "        else:\n",
    "             print(\"Line not found!\")\n",
    "\n",
    "    def list_lines (self,)\n",
    "        if not self.line:\n",
    "            print(\"No lines available.\")\n",
    "            return\n",
    "        for line in self.lines.values():\n",
    "            print(f\"- {line.name}: {line.start} -> {line.stop} | Stations: {', '.join(line.stations)}\")"
   ]
  }
 ],
 "metadata": {
  "language_info": {
   "name": "python"
  }
 },
 "nbformat": 4,
 "nbformat_minor": 2
}
