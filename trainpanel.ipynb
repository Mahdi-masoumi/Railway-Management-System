{
 "cells": [
  {
   "cell_type": "code",
   "execution_count": null,
   "metadata": {},
   "outputs": [],
   "source": [
    "def train_employee_panel(username):\n",
    "    while True:\n",
    "#starting train emp panel        \n",
    "        print(\"\\n---Employee Panel---\")\n",
    "        print(\"1. Add Line\")\n",
    "        print(\"2. Update Line\")\n",
    "        print(\"3. Delete Line\")\n",
    "        print(\"4. Lines List\")\n",
    "        print(\"5. Add Train\")\n",
    "        print(\"6. Delete Train\")\n",
    "        print(\"7. Trains List\")\n",
    "        print(\"8. Exit\")\n",
    "\n",
    "        choice = input(\"Gozine Mored Nazar Ra Vared Konid :\").strip()\n",
    "\n",
    "\n",
    "        if choice == \"1\":\n",
    "            add_line()\n",
    "        elif choice == \"2\";\n",
    "            update_line()\n",
    "         elif choice == \"3\"\n",
    "            delete_line()\n",
    "        elif choice == \"4\"\n",
    "            lines_list()\n",
    "        elif choice == \"5\"\n",
    "            add_train()\n",
    "        elif choice == \"6\"\n",
    "            delete_train()\n",
    "        elif choice == \"7\"\n",
    "            trains_list()\n",
    "        elif choice == \"8\"\n",
    "            print(\"Going back to menu...\")\n",
    "            break\n",
    "        else:\n",
    "            print()  \n"
   ]
  }
 ],
 "metadata": {
  "language_info": {
   "name": "python"
  }
 },
 "nbformat": 4,
 "nbformat_minor": 2
}
